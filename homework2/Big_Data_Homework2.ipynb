{
 "cells": [
  {
   "cell_type": "markdown",
   "metadata": {},
   "source": [
    "# Big data analysis homework 2\n",
    "## Name: liusheng\n",
    "## ID:1801212891"
   ]
  },
  {
   "cell_type": "markdown",
   "metadata": {},
   "source": [
    "# Problem 1\n",
    "Loading data first"
   ]
  },
  {
   "cell_type": "code",
   "execution_count": 5,
   "metadata": {},
   "outputs": [
    {
     "data": {
      "text/plain": [
       "(284, 10)"
      ]
     },
     "execution_count": 5,
     "metadata": {},
     "output_type": "execute_result"
    },
    {
     "data": {
      "text/html": [
       "<div>\n",
       "<style scoped>\n",
       "    .dataframe tbody tr th:only-of-type {\n",
       "        vertical-align: middle;\n",
       "    }\n",
       "\n",
       "    .dataframe tbody tr th {\n",
       "        vertical-align: top;\n",
       "    }\n",
       "\n",
       "    .dataframe thead th {\n",
       "        text-align: right;\n",
       "    }\n",
       "</style>\n",
       "<table border=\"1\" class=\"dataframe\">\n",
       "  <thead>\n",
       "    <tr style=\"text-align: right;\">\n",
       "      <th></th>\n",
       "      <th>Month</th>\n",
       "      <th>MEI</th>\n",
       "      <th>CO2</th>\n",
       "      <th>CH4</th>\n",
       "      <th>N2O</th>\n",
       "      <th>CFC-11</th>\n",
       "      <th>CFC-12</th>\n",
       "      <th>TSI</th>\n",
       "      <th>Aerosols</th>\n",
       "      <th>Temp</th>\n",
       "    </tr>\n",
       "    <tr>\n",
       "      <th>Year</th>\n",
       "      <th></th>\n",
       "      <th></th>\n",
       "      <th></th>\n",
       "      <th></th>\n",
       "      <th></th>\n",
       "      <th></th>\n",
       "      <th></th>\n",
       "      <th></th>\n",
       "      <th></th>\n",
       "      <th></th>\n",
       "    </tr>\n",
       "  </thead>\n",
       "  <tbody>\n",
       "    <tr>\n",
       "      <th>1983</th>\n",
       "      <td>5</td>\n",
       "      <td>2.556</td>\n",
       "      <td>345.96</td>\n",
       "      <td>1638.59</td>\n",
       "      <td>303.677</td>\n",
       "      <td>191.324</td>\n",
       "      <td>350.113</td>\n",
       "      <td>1366.1024</td>\n",
       "      <td>0.0863</td>\n",
       "      <td>0.109</td>\n",
       "    </tr>\n",
       "    <tr>\n",
       "      <th>1983</th>\n",
       "      <td>6</td>\n",
       "      <td>2.167</td>\n",
       "      <td>345.52</td>\n",
       "      <td>1633.71</td>\n",
       "      <td>303.746</td>\n",
       "      <td>192.057</td>\n",
       "      <td>351.848</td>\n",
       "      <td>1366.1208</td>\n",
       "      <td>0.0794</td>\n",
       "      <td>0.118</td>\n",
       "    </tr>\n",
       "    <tr>\n",
       "      <th>1983</th>\n",
       "      <td>7</td>\n",
       "      <td>1.741</td>\n",
       "      <td>344.15</td>\n",
       "      <td>1633.22</td>\n",
       "      <td>303.795</td>\n",
       "      <td>192.818</td>\n",
       "      <td>353.725</td>\n",
       "      <td>1366.2850</td>\n",
       "      <td>0.0731</td>\n",
       "      <td>0.137</td>\n",
       "    </tr>\n",
       "    <tr>\n",
       "      <th>1983</th>\n",
       "      <td>8</td>\n",
       "      <td>1.130</td>\n",
       "      <td>342.25</td>\n",
       "      <td>1631.35</td>\n",
       "      <td>303.839</td>\n",
       "      <td>193.602</td>\n",
       "      <td>355.633</td>\n",
       "      <td>1366.4202</td>\n",
       "      <td>0.0673</td>\n",
       "      <td>0.176</td>\n",
       "    </tr>\n",
       "    <tr>\n",
       "      <th>1983</th>\n",
       "      <td>9</td>\n",
       "      <td>0.428</td>\n",
       "      <td>340.17</td>\n",
       "      <td>1648.40</td>\n",
       "      <td>303.901</td>\n",
       "      <td>194.392</td>\n",
       "      <td>357.465</td>\n",
       "      <td>1366.2335</td>\n",
       "      <td>0.0619</td>\n",
       "      <td>0.149</td>\n",
       "    </tr>\n",
       "  </tbody>\n",
       "</table>\n",
       "</div>"
      ],
      "text/plain": [
       "      Month    MEI     CO2      CH4      N2O   CFC-11   CFC-12        TSI  \\\n",
       "Year                                                                        \n",
       "1983      5  2.556  345.96  1638.59  303.677  191.324  350.113  1366.1024   \n",
       "1983      6  2.167  345.52  1633.71  303.746  192.057  351.848  1366.1208   \n",
       "1983      7  1.741  344.15  1633.22  303.795  192.818  353.725  1366.2850   \n",
       "1983      8  1.130  342.25  1631.35  303.839  193.602  355.633  1366.4202   \n",
       "1983      9  0.428  340.17  1648.40  303.901  194.392  357.465  1366.2335   \n",
       "\n",
       "      Aerosols   Temp  \n",
       "Year                   \n",
       "1983    0.0863  0.109  \n",
       "1983    0.0794  0.118  \n",
       "1983    0.0731  0.137  \n",
       "1983    0.0673  0.176  \n",
       "1983    0.0619  0.149  "
      ]
     },
     "execution_count": 5,
     "metadata": {},
     "output_type": "execute_result"
    }
   ],
   "source": [
    "from IPython.core.interactiveshell import InteractiveShell\n",
    "InteractiveShell.ast_node_interactivity = \"all\"\n",
    "\n",
    "import warnings\n",
    "warnings.filterwarnings(\"ignore\")\n",
    "\n",
    "import numpy as np\n",
    "import pandas as pd\n",
    "import matplotlib.pyplot as plt\n",
    "\n",
    "data = pd.read_csv(\"climate_change_1.csv\", index_col=0)\n",
    "train_data = data.loc[:2006,:]\n",
    "test_data = data.loc[2007:,:]\n",
    "train_data.shape\n",
    "data.head()"
   ]
  },
  {
   "cell_type": "markdown",
   "metadata": {},
   "source": [
    "### 1. Implement a function closed_form_1 that computes this closed form solution given the features 𝐗, labels Y (using Python or Matlab).\n",
    "\n",
    "Apparently, the some variables in data set are highly correlated, so the correlation coefficient of the correlated variables are unstable.For example, CO2 and N2O, CH4 and CFC-12, is highly correlated, the correlation coefficeints of those variables are not trusted"
   ]
  },
  {
   "cell_type": "code",
   "execution_count": 6,
   "metadata": {
    "scrolled": true
   },
   "outputs": [
    {
     "data": {
      "text/html": [
       "<div>\n",
       "<style scoped>\n",
       "    .dataframe tbody tr th:only-of-type {\n",
       "        vertical-align: middle;\n",
       "    }\n",
       "\n",
       "    .dataframe tbody tr th {\n",
       "        vertical-align: top;\n",
       "    }\n",
       "\n",
       "    .dataframe thead th {\n",
       "        text-align: right;\n",
       "    }\n",
       "</style>\n",
       "<table border=\"1\" class=\"dataframe\">\n",
       "  <thead>\n",
       "    <tr style=\"text-align: right;\">\n",
       "      <th></th>\n",
       "      <th>MEI</th>\n",
       "      <th>CO2</th>\n",
       "      <th>CH4</th>\n",
       "      <th>N2O</th>\n",
       "      <th>CFC-11</th>\n",
       "      <th>CFC-12</th>\n",
       "      <th>TSI</th>\n",
       "      <th>Aerosols</th>\n",
       "    </tr>\n",
       "  </thead>\n",
       "  <tbody>\n",
       "    <tr>\n",
       "      <th>MEI</th>\n",
       "      <td>1.0</td>\n",
       "      <td>NaN</td>\n",
       "      <td>NaN</td>\n",
       "      <td>NaN</td>\n",
       "      <td>NaN</td>\n",
       "      <td>NaN</td>\n",
       "      <td>NaN</td>\n",
       "      <td>NaN</td>\n",
       "    </tr>\n",
       "    <tr>\n",
       "      <th>CO2</th>\n",
       "      <td>NaN</td>\n",
       "      <td>1.00000</td>\n",
       "      <td>NaN</td>\n",
       "      <td>0.97672</td>\n",
       "      <td>NaN</td>\n",
       "      <td>NaN</td>\n",
       "      <td>NaN</td>\n",
       "      <td>NaN</td>\n",
       "    </tr>\n",
       "    <tr>\n",
       "      <th>CH4</th>\n",
       "      <td>NaN</td>\n",
       "      <td>NaN</td>\n",
       "      <td>1.000000</td>\n",
       "      <td>NaN</td>\n",
       "      <td>NaN</td>\n",
       "      <td>0.963616</td>\n",
       "      <td>NaN</td>\n",
       "      <td>NaN</td>\n",
       "    </tr>\n",
       "    <tr>\n",
       "      <th>N2O</th>\n",
       "      <td>NaN</td>\n",
       "      <td>0.97672</td>\n",
       "      <td>NaN</td>\n",
       "      <td>1.00000</td>\n",
       "      <td>NaN</td>\n",
       "      <td>NaN</td>\n",
       "      <td>NaN</td>\n",
       "      <td>NaN</td>\n",
       "    </tr>\n",
       "    <tr>\n",
       "      <th>CFC-11</th>\n",
       "      <td>NaN</td>\n",
       "      <td>NaN</td>\n",
       "      <td>NaN</td>\n",
       "      <td>NaN</td>\n",
       "      <td>1.0</td>\n",
       "      <td>NaN</td>\n",
       "      <td>NaN</td>\n",
       "      <td>NaN</td>\n",
       "    </tr>\n",
       "    <tr>\n",
       "      <th>CFC-12</th>\n",
       "      <td>NaN</td>\n",
       "      <td>NaN</td>\n",
       "      <td>0.963616</td>\n",
       "      <td>NaN</td>\n",
       "      <td>NaN</td>\n",
       "      <td>1.000000</td>\n",
       "      <td>NaN</td>\n",
       "      <td>NaN</td>\n",
       "    </tr>\n",
       "    <tr>\n",
       "      <th>TSI</th>\n",
       "      <td>NaN</td>\n",
       "      <td>NaN</td>\n",
       "      <td>NaN</td>\n",
       "      <td>NaN</td>\n",
       "      <td>NaN</td>\n",
       "      <td>NaN</td>\n",
       "      <td>1.0</td>\n",
       "      <td>NaN</td>\n",
       "    </tr>\n",
       "    <tr>\n",
       "      <th>Aerosols</th>\n",
       "      <td>NaN</td>\n",
       "      <td>NaN</td>\n",
       "      <td>NaN</td>\n",
       "      <td>NaN</td>\n",
       "      <td>NaN</td>\n",
       "      <td>NaN</td>\n",
       "      <td>NaN</td>\n",
       "      <td>1.0</td>\n",
       "    </tr>\n",
       "  </tbody>\n",
       "</table>\n",
       "</div>"
      ],
      "text/plain": [
       "          MEI      CO2       CH4      N2O  CFC-11    CFC-12  TSI  Aerosols\n",
       "MEI       1.0      NaN       NaN      NaN     NaN       NaN  NaN       NaN\n",
       "CO2       NaN  1.00000       NaN  0.97672     NaN       NaN  NaN       NaN\n",
       "CH4       NaN      NaN  1.000000      NaN     NaN  0.963616  NaN       NaN\n",
       "N2O       NaN  0.97672       NaN  1.00000     NaN       NaN  NaN       NaN\n",
       "CFC-11    NaN      NaN       NaN      NaN     1.0       NaN  NaN       NaN\n",
       "CFC-12    NaN      NaN  0.963616      NaN     NaN  1.000000  NaN       NaN\n",
       "TSI       NaN      NaN       NaN      NaN     NaN       NaN  1.0       NaN\n",
       "Aerosols  NaN      NaN       NaN      NaN     NaN       NaN  NaN       1.0"
      ]
     },
     "execution_count": 6,
     "metadata": {},
     "output_type": "execute_result"
    },
    {
     "data": {
      "text/plain": [
       "MEI           0.064205\n",
       "CO2           0.006457\n",
       "CH4           0.000124\n",
       "N2O          -0.016528\n",
       "CFC-11       -0.006630\n",
       "CFC-12        0.003808\n",
       "TSI           0.093141\n",
       "Aerosols     -1.537613\n",
       "Constant   -124.594261\n",
       "Name: correlation coefficient, dtype: float64"
      ]
     },
     "execution_count": 6,
     "metadata": {},
     "output_type": "execute_result"
    }
   ],
   "source": [
    "temp = train_data.iloc[:,1:-1].corr()\n",
    "temp[temp>0.9]\n",
    "\n",
    "def closed_form_1(x,y, constant = True):\n",
    "    if constant:\n",
    "        x[\"Constant\"]=1\n",
    "    columns = x.columns\n",
    "    x = np.matrix(x)\n",
    "    y = np.matrix(y).T\n",
    "    coeff = (x.T@x).I@(x.T@y)\n",
    "    result = pd.Series(coeff.A1, index=columns, \n",
    "                       name=\"correlation coefficient\")\n",
    "    return result\n",
    "\n",
    "coeff = closed_form_1(train_data.iloc[:,1:-1], train_data.Temp)\n",
    "coeff"
   ]
  },
  {
   "cell_type": "markdown",
   "metadata": {},
   "source": [
    "### 2.Write down the mathematical formula for the linear model and evaluate the model R2 on the training set and the testing set.\n",
    "The mathematical formula for the linear model is\n",
    "* $$y=X\\beta+\\epsilon$$\n",
    "\n",
    "The formula of $R^2$ is\n",
    "* $$R^2 = \\frac{\\Sigma_i(\\hat y_i-\\bar y_i)^2}{\\Sigma_i(y_i-\\bar y_i)^2}$$"
   ]
  },
  {
   "cell_type": "code",
   "execution_count": 7,
   "metadata": {},
   "outputs": [
    {
     "name": "stdout",
     "output_type": "stream",
     "text": [
      "r2 of training_data is 0.7508932744089846\n",
      "r2 of testing_data is 0.18739108883450017\n"
     ]
    }
   ],
   "source": [
    "def r_square(coeff,x,y,constant = True):\n",
    "    if constant:\n",
    "        x[\"Constant\"]=1\n",
    "        \n",
    "    coeff = np.matrix(coeff)\n",
    "    x = np.matrix(x)\n",
    "    y = y.values\n",
    "    y_hat = (x@coeff.T).A1\n",
    "    \n",
    "    var1 = ((y_hat-y_hat.mean())**2).sum()\n",
    "    var2 = ((y-y.mean())**2).sum()\n",
    "    r2 = var1/var2\n",
    "    return r2\n",
    "\n",
    "print(\"r2 of training_data is\", r_square(coeff,train_data.iloc[:,1:-1],train_data.Temp))\n",
    "print(\"r2 of testing_data is\", r_square(coeff,test_data.iloc[:,1:-1],test_data.Temp))\n",
    "\n"
   ]
  },
  {
   "cell_type": "markdown",
   "metadata": {},
   "source": [
    "### 3.Which variables are significant in the model?\n",
    "We evaluate the t-test on the model\n",
    "* The t-test based on the assumption $\\epsilon|X\\sim N(0,\\sigma^2I_n)$\n",
    "* So, $({\\hat\\beta}-\\beta)|X\\sim N(0,\\sigma^2(X'X)^{-1})$\n",
    "* $\\sigma^2$ is unknown which should be replace by the estimator $s^2 = \\frac1{n-k}\\Sigma e_i^2$\n",
    "\n",
    "As we see in the result, the t-value of CH4 is only 0.2404, less than the critical value $t_{200,0.9}=1.653$,so it's not significant.<br>But,as we mentioned before,CO2 and N2O, CH4 and CFC-12, is highly correlated, the t value of those variables are not trusted."
   ]
  },
  {
   "cell_type": "code",
   "execution_count": 8,
   "metadata": {},
   "outputs": [
    {
     "data": {
      "text/plain": [
       "MEI         9.923226\n",
       "CO2         2.826420\n",
       "CH4         0.240469\n",
       "N2O        -1.929726\n",
       "CFC-11     -4.077834\n",
       "CFC-12      3.757293\n",
       "TSI         6.312561\n",
       "Aerosols   -7.210301\n",
       "Constant   -6.265174\n",
       "Name: t value, dtype: float64"
      ]
     },
     "execution_count": 8,
     "metadata": {},
     "output_type": "execute_result"
    },
    {
     "data": {
      "text/plain": [
       "CH4    0.240469\n",
       "Name: t value, dtype: float64"
      ]
     },
     "execution_count": 8,
     "metadata": {},
     "output_type": "execute_result"
    }
   ],
   "source": [
    "def t_value(coeff,x,y,constant=True):\n",
    "    if constant:\n",
    "        x[\"Constant\"]=1\n",
    "    coeff = np.matrix(coeff)\n",
    "    index = x.columns\n",
    "    x = np.matrix(x)\n",
    "    y = np.matrix(y).T\n",
    "    y_hat = (x@coeff.T)\n",
    "    \n",
    "    s2 = np.power(y-y_hat,2).sum()/(x.shape[0]-x.shape[1])\n",
    "    t = coeff/np.power(s2*(x.T@x).I.diagonal(),0.5)\n",
    "    result = pd.Series(t.A1, index=index, name=\"t value\")\n",
    "    return result\n",
    "\n",
    "t_result = t_value(coeff,train_data.iloc[:,1:-1],train_data.Temp)\n",
    "t_result\n",
    "\n",
    "t_result[t_result.abs()<1.653]"
   ]
  },
  {
   "cell_type": "markdown",
   "metadata": {},
   "source": [
    "### 4. Write down the necessary conditions for using the closed form solution. And you can apply it to the dataset climate_change_2.csv, explain the solution is unreasonable.\n",
    "The condition for the OLS is\n",
    "1. $E(\\epsilon|X)=0$\n",
    "2. $(XX')^{-1} existed$\n",
    "3. $Var(X^4)<\\infty,Var(y^4)<\\infty$\n",
    "4. $E(\\epsilon'\\epsilon)=\\sigma^2I$\n",
    "\n",
    "As we see, in data set 2, the covariance matrix shows the correlation coefficient between CO2 and N2O, CFC-12 and CH4 is pretty high, and N2O and CH4 is identical in trend, which violate the rule 2. So, the analytical solution is sensetive to the original value and unreasonable."
   ]
  },
  {
   "cell_type": "code",
   "execution_count": 9,
   "metadata": {
    "scrolled": true
   },
   "outputs": [
    {
     "data": {
      "text/html": [
       "<div>\n",
       "<style scoped>\n",
       "    .dataframe tbody tr th:only-of-type {\n",
       "        vertical-align: middle;\n",
       "    }\n",
       "\n",
       "    .dataframe tbody tr th {\n",
       "        vertical-align: top;\n",
       "    }\n",
       "\n",
       "    .dataframe thead th {\n",
       "        text-align: right;\n",
       "    }\n",
       "</style>\n",
       "<table border=\"1\" class=\"dataframe\">\n",
       "  <thead>\n",
       "    <tr style=\"text-align: right;\">\n",
       "      <th></th>\n",
       "      <th>MEI</th>\n",
       "      <th>CO2</th>\n",
       "      <th>CH4</th>\n",
       "      <th>N2O</th>\n",
       "      <th>CFC-11</th>\n",
       "      <th>CFC-12</th>\n",
       "      <th>TSI</th>\n",
       "      <th>Aerosols</th>\n",
       "      <th>NO</th>\n",
       "    </tr>\n",
       "  </thead>\n",
       "  <tbody>\n",
       "    <tr>\n",
       "      <th>MEI</th>\n",
       "      <td>1.0</td>\n",
       "      <td>NaN</td>\n",
       "      <td>NaN</td>\n",
       "      <td>NaN</td>\n",
       "      <td>NaN</td>\n",
       "      <td>NaN</td>\n",
       "      <td>NaN</td>\n",
       "      <td>NaN</td>\n",
       "      <td>NaN</td>\n",
       "    </tr>\n",
       "    <tr>\n",
       "      <th>CO2</th>\n",
       "      <td>NaN</td>\n",
       "      <td>1.000000</td>\n",
       "      <td>NaN</td>\n",
       "      <td>0.981135</td>\n",
       "      <td>NaN</td>\n",
       "      <td>NaN</td>\n",
       "      <td>NaN</td>\n",
       "      <td>NaN</td>\n",
       "      <td>NaN</td>\n",
       "    </tr>\n",
       "    <tr>\n",
       "      <th>CH4</th>\n",
       "      <td>NaN</td>\n",
       "      <td>NaN</td>\n",
       "      <td>1.000000</td>\n",
       "      <td>NaN</td>\n",
       "      <td>NaN</td>\n",
       "      <td>0.958237</td>\n",
       "      <td>NaN</td>\n",
       "      <td>NaN</td>\n",
       "      <td>1.000000</td>\n",
       "    </tr>\n",
       "    <tr>\n",
       "      <th>N2O</th>\n",
       "      <td>NaN</td>\n",
       "      <td>0.981135</td>\n",
       "      <td>NaN</td>\n",
       "      <td>1.000000</td>\n",
       "      <td>NaN</td>\n",
       "      <td>NaN</td>\n",
       "      <td>NaN</td>\n",
       "      <td>NaN</td>\n",
       "      <td>NaN</td>\n",
       "    </tr>\n",
       "    <tr>\n",
       "      <th>CFC-11</th>\n",
       "      <td>NaN</td>\n",
       "      <td>NaN</td>\n",
       "      <td>NaN</td>\n",
       "      <td>NaN</td>\n",
       "      <td>1.0</td>\n",
       "      <td>NaN</td>\n",
       "      <td>NaN</td>\n",
       "      <td>NaN</td>\n",
       "      <td>NaN</td>\n",
       "    </tr>\n",
       "    <tr>\n",
       "      <th>CFC-12</th>\n",
       "      <td>NaN</td>\n",
       "      <td>NaN</td>\n",
       "      <td>0.958237</td>\n",
       "      <td>NaN</td>\n",
       "      <td>NaN</td>\n",
       "      <td>1.000000</td>\n",
       "      <td>NaN</td>\n",
       "      <td>NaN</td>\n",
       "      <td>0.958237</td>\n",
       "    </tr>\n",
       "    <tr>\n",
       "      <th>TSI</th>\n",
       "      <td>NaN</td>\n",
       "      <td>NaN</td>\n",
       "      <td>NaN</td>\n",
       "      <td>NaN</td>\n",
       "      <td>NaN</td>\n",
       "      <td>NaN</td>\n",
       "      <td>1.0</td>\n",
       "      <td>NaN</td>\n",
       "      <td>NaN</td>\n",
       "    </tr>\n",
       "    <tr>\n",
       "      <th>Aerosols</th>\n",
       "      <td>NaN</td>\n",
       "      <td>NaN</td>\n",
       "      <td>NaN</td>\n",
       "      <td>NaN</td>\n",
       "      <td>NaN</td>\n",
       "      <td>NaN</td>\n",
       "      <td>NaN</td>\n",
       "      <td>1.0</td>\n",
       "      <td>NaN</td>\n",
       "    </tr>\n",
       "    <tr>\n",
       "      <th>NO</th>\n",
       "      <td>NaN</td>\n",
       "      <td>NaN</td>\n",
       "      <td>1.000000</td>\n",
       "      <td>NaN</td>\n",
       "      <td>NaN</td>\n",
       "      <td>0.958237</td>\n",
       "      <td>NaN</td>\n",
       "      <td>NaN</td>\n",
       "      <td>1.000000</td>\n",
       "    </tr>\n",
       "  </tbody>\n",
       "</table>\n",
       "</div>"
      ],
      "text/plain": [
       "          MEI       CO2       CH4       N2O  CFC-11    CFC-12  TSI  Aerosols  \\\n",
       "MEI       1.0       NaN       NaN       NaN     NaN       NaN  NaN       NaN   \n",
       "CO2       NaN  1.000000       NaN  0.981135     NaN       NaN  NaN       NaN   \n",
       "CH4       NaN       NaN  1.000000       NaN     NaN  0.958237  NaN       NaN   \n",
       "N2O       NaN  0.981135       NaN  1.000000     NaN       NaN  NaN       NaN   \n",
       "CFC-11    NaN       NaN       NaN       NaN     1.0       NaN  NaN       NaN   \n",
       "CFC-12    NaN       NaN  0.958237       NaN     NaN  1.000000  NaN       NaN   \n",
       "TSI       NaN       NaN       NaN       NaN     NaN       NaN  1.0       NaN   \n",
       "Aerosols  NaN       NaN       NaN       NaN     NaN       NaN  NaN       1.0   \n",
       "NO        NaN       NaN  1.000000       NaN     NaN  0.958237  NaN       NaN   \n",
       "\n",
       "                NO  \n",
       "MEI            NaN  \n",
       "CO2            NaN  \n",
       "CH4       1.000000  \n",
       "N2O            NaN  \n",
       "CFC-11         NaN  \n",
       "CFC-12    0.958237  \n",
       "TSI            NaN  \n",
       "Aerosols       NaN  \n",
       "NO        1.000000  "
      ]
     },
     "execution_count": 9,
     "metadata": {},
     "output_type": "execute_result"
    }
   ],
   "source": [
    "data2 = pd.read_csv(\"climate_change_2.csv\", index_col=0)\n",
    "corr = data2.loc[:,\"MEI\":\"NO\"].corr()\n",
    "corr[corr>0.9]"
   ]
  },
  {
   "cell_type": "code",
   "execution_count": 10,
   "metadata": {},
   "outputs": [
    {
     "data": {
      "text/plain": [
       "MEI           0.230112\n",
       "CO2           0.006167\n",
       "CH4          -0.006012\n",
       "N2O          -0.016552\n",
       "CFC-11       -0.006657\n",
       "CFC-12        0.003825\n",
       "TSI           0.093162\n",
       "Aerosols     -1.537646\n",
       "NO            6.125000\n",
       "Constant   -130.750000\n",
       "Name: correlation coefficient, dtype: float64"
      ]
     },
     "execution_count": 10,
     "metadata": {},
     "output_type": "execute_result"
    },
    {
     "data": {
      "text/plain": [
       "1.7422221484232263"
      ]
     },
     "execution_count": 10,
     "metadata": {},
     "output_type": "execute_result"
    },
    {
     "data": {
      "text/plain": [
       "MEI         16.522157\n",
       "CO2          1.253986\n",
       "CH4         -0.000027\n",
       "N2O         -0.897771\n",
       "CFC-11      -1.902073\n",
       "CFC-12       1.753051\n",
       "TSI          2.933252\n",
       "Aerosols    -3.349718\n",
       "NO           0.000027\n",
       "Constant    -0.000578\n",
       "Name: t value, dtype: float64"
      ]
     },
     "execution_count": 10,
     "metadata": {},
     "output_type": "execute_result"
    }
   ],
   "source": [
    "train_data2 = data2.loc[:2006,:]\n",
    "test_data2 = data2.loc[2007:,:]\n",
    "coeff2 = closed_form_1(train_data2.iloc[:,1:-1], train_data2.Temp)\n",
    "coeff2\n",
    "r_result2 = r_square(coeff2,train_data2.iloc[:,1:-1],train_data2.Temp)\n",
    "r_result2\n",
    "t_result2 = t_value(coeff2,train_data2.iloc[:,1:-1],train_data2.Temp)\n",
    "t_result2"
   ]
  },
  {
   "cell_type": "markdown",
   "metadata": {},
   "source": [
    "#### we compare the result with third-party packages"
   ]
  },
  {
   "cell_type": "code",
   "execution_count": 11,
   "metadata": {},
   "outputs": [
    {
     "data": {
      "text/html": [
       "<table class=\"simpletable\">\n",
       "<caption>OLS Regression Results</caption>\n",
       "<tr>\n",
       "  <th>Dep. Variable:</th>          <td>Temp</td>       <th>  R-squared:         </th> <td>   0.751</td>\n",
       "</tr>\n",
       "<tr>\n",
       "  <th>Model:</th>                   <td>OLS</td>       <th>  Adj. R-squared:    </th> <td>   0.744</td>\n",
       "</tr>\n",
       "<tr>\n",
       "  <th>Method:</th>             <td>Least Squares</td>  <th>  F-statistic:       </th> <td>   103.6</td>\n",
       "</tr>\n",
       "<tr>\n",
       "  <th>Date:</th>             <td>Fri, 27 Dec 2019</td> <th>  Prob (F-statistic):</th> <td>1.94e-78</td>\n",
       "</tr>\n",
       "<tr>\n",
       "  <th>Time:</th>                 <td>21:07:48</td>     <th>  Log-Likelihood:    </th> <td>  280.10</td>\n",
       "</tr>\n",
       "<tr>\n",
       "  <th>No. Observations:</th>      <td>   284</td>      <th>  AIC:               </th> <td>  -542.2</td>\n",
       "</tr>\n",
       "<tr>\n",
       "  <th>Df Residuals:</th>          <td>   275</td>      <th>  BIC:               </th> <td>  -509.4</td>\n",
       "</tr>\n",
       "<tr>\n",
       "  <th>Df Model:</th>              <td>     8</td>      <th>                     </th>     <td> </td>   \n",
       "</tr>\n",
       "<tr>\n",
       "  <th>Covariance Type:</th>      <td>nonrobust</td>    <th>                     </th>     <td> </td>   \n",
       "</tr>\n",
       "</table>\n",
       "<table class=\"simpletable\">\n",
       "<tr>\n",
       "      <td></td>        <th>coef</th>     <th>std err</th>      <th>t</th>      <th>P>|t|</th>  <th>[0.025</th>    <th>0.975]</th>  \n",
       "</tr>\n",
       "<tr>\n",
       "  <th>const</th>    <td> -124.5943</td> <td>   19.887</td> <td>   -6.265</td> <td> 0.000</td> <td> -163.744</td> <td>  -85.445</td>\n",
       "</tr>\n",
       "<tr>\n",
       "  <th>MEI</th>      <td>    0.0642</td> <td>    0.006</td> <td>    9.923</td> <td> 0.000</td> <td>    0.051</td> <td>    0.077</td>\n",
       "</tr>\n",
       "<tr>\n",
       "  <th>CO2</th>      <td>    0.0065</td> <td>    0.002</td> <td>    2.826</td> <td> 0.005</td> <td>    0.002</td> <td>    0.011</td>\n",
       "</tr>\n",
       "<tr>\n",
       "  <th>CH4</th>      <td>    0.0001</td> <td>    0.001</td> <td>    0.240</td> <td> 0.810</td> <td>   -0.001</td> <td>    0.001</td>\n",
       "</tr>\n",
       "<tr>\n",
       "  <th>N2O</th>      <td>   -0.0165</td> <td>    0.009</td> <td>   -1.930</td> <td> 0.055</td> <td>   -0.033</td> <td>    0.000</td>\n",
       "</tr>\n",
       "<tr>\n",
       "  <th>CFC-11</th>   <td>   -0.0066</td> <td>    0.002</td> <td>   -4.078</td> <td> 0.000</td> <td>   -0.010</td> <td>   -0.003</td>\n",
       "</tr>\n",
       "<tr>\n",
       "  <th>CFC-12</th>   <td>    0.0038</td> <td>    0.001</td> <td>    3.757</td> <td> 0.000</td> <td>    0.002</td> <td>    0.006</td>\n",
       "</tr>\n",
       "<tr>\n",
       "  <th>TSI</th>      <td>    0.0931</td> <td>    0.015</td> <td>    6.313</td> <td> 0.000</td> <td>    0.064</td> <td>    0.122</td>\n",
       "</tr>\n",
       "<tr>\n",
       "  <th>Aerosols</th> <td>   -1.5376</td> <td>    0.213</td> <td>   -7.210</td> <td> 0.000</td> <td>   -1.957</td> <td>   -1.118</td>\n",
       "</tr>\n",
       "</table>\n",
       "<table class=\"simpletable\">\n",
       "<tr>\n",
       "  <th>Omnibus:</th>       <td> 8.740</td> <th>  Durbin-Watson:     </th> <td>   0.956</td>\n",
       "</tr>\n",
       "<tr>\n",
       "  <th>Prob(Omnibus):</th> <td> 0.013</td> <th>  Jarque-Bera (JB):  </th> <td>  10.327</td>\n",
       "</tr>\n",
       "<tr>\n",
       "  <th>Skew:</th>          <td> 0.289</td> <th>  Prob(JB):          </th> <td> 0.00572</td>\n",
       "</tr>\n",
       "<tr>\n",
       "  <th>Kurtosis:</th>      <td> 3.733</td> <th>  Cond. No.          </th> <td>8.53e+06</td>\n",
       "</tr>\n",
       "</table><br/><br/>Warnings:<br/>[1] Standard Errors assume that the covariance matrix of the errors is correctly specified.<br/>[2] The condition number is large, 8.53e+06. This might indicate that there are<br/>strong multicollinearity or other numerical problems."
      ],
      "text/plain": [
       "<class 'statsmodels.iolib.summary.Summary'>\n",
       "\"\"\"\n",
       "                            OLS Regression Results                            \n",
       "==============================================================================\n",
       "Dep. Variable:                   Temp   R-squared:                       0.751\n",
       "Model:                            OLS   Adj. R-squared:                  0.744\n",
       "Method:                 Least Squares   F-statistic:                     103.6\n",
       "Date:                Fri, 27 Dec 2019   Prob (F-statistic):           1.94e-78\n",
       "Time:                        21:07:48   Log-Likelihood:                 280.10\n",
       "No. Observations:                 284   AIC:                            -542.2\n",
       "Df Residuals:                     275   BIC:                            -509.4\n",
       "Df Model:                           8                                         \n",
       "Covariance Type:            nonrobust                                         \n",
       "==============================================================================\n",
       "                 coef    std err          t      P>|t|      [0.025      0.975]\n",
       "------------------------------------------------------------------------------\n",
       "const       -124.5943     19.887     -6.265      0.000    -163.744     -85.445\n",
       "MEI            0.0642      0.006      9.923      0.000       0.051       0.077\n",
       "CO2            0.0065      0.002      2.826      0.005       0.002       0.011\n",
       "CH4            0.0001      0.001      0.240      0.810      -0.001       0.001\n",
       "N2O           -0.0165      0.009     -1.930      0.055      -0.033       0.000\n",
       "CFC-11        -0.0066      0.002     -4.078      0.000      -0.010      -0.003\n",
       "CFC-12         0.0038      0.001      3.757      0.000       0.002       0.006\n",
       "TSI            0.0931      0.015      6.313      0.000       0.064       0.122\n",
       "Aerosols      -1.5376      0.213     -7.210      0.000      -1.957      -1.118\n",
       "==============================================================================\n",
       "Omnibus:                        8.740   Durbin-Watson:                   0.956\n",
       "Prob(Omnibus):                  0.013   Jarque-Bera (JB):               10.327\n",
       "Skew:                           0.289   Prob(JB):                      0.00572\n",
       "Kurtosis:                       3.733   Cond. No.                     8.53e+06\n",
       "==============================================================================\n",
       "\n",
       "Warnings:\n",
       "[1] Standard Errors assume that the covariance matrix of the errors is correctly specified.\n",
       "[2] The condition number is large, 8.53e+06. This might indicate that there are\n",
       "strong multicollinearity or other numerical problems.\n",
       "\"\"\""
      ]
     },
     "execution_count": 11,
     "metadata": {},
     "output_type": "execute_result"
    }
   ],
   "source": [
    "import statsmodels.api as sm\n",
    "model = sm.OLS(train_data.Temp, sm.add_constant(train_data.iloc[:,1:-1])).fit()\n",
    "model.summary()"
   ]
  },
  {
   "cell_type": "markdown",
   "metadata": {},
   "source": [
    "# Problem2"
   ]
  },
  {
   "cell_type": "markdown",
   "metadata": {},
   "source": [
    "### 1. Please write down the loss function for linear model with L1 regularization, L2 regularization, respectively.**\n",
    "* The loss function with $L_1$ regularization $$(Y-X\\beta)'(Y-X\\beta)+\\alpha e'|\\beta|$$\n",
    "* The loss function with $L_2$ regularization $$(Y-X\\beta)'(Y-X\\beta)+\\lambda \\beta'\\beta$$"
   ]
  },
  {
   "cell_type": "markdown",
   "metadata": {},
   "source": [
    "### 2.The closed form solution for linear model with L2 regularization:\n",
    "$$\\theta = (X^TX+\\lambda I)^{-1}X^TY$$ \n",
    "### where I is the identity matrix. Write a function closed_form_2 that computes this closed form solution given the features X, labels Y and the regularization parameter $\\lambda$"
   ]
  },
  {
   "cell_type": "code",
   "execution_count": 12,
   "metadata": {},
   "outputs": [
    {
     "data": {
      "text/plain": [
       "MEI         0.055398\n",
       "CO2         0.006257\n",
       "CH4         0.000073\n",
       "N2O        -0.013336\n",
       "CFC-11     -0.005816\n",
       "CFC-12      0.003584\n",
       "TSI         0.003155\n",
       "Aerosols   -1.328688\n",
       "Constant   -2.592470\n",
       "Name: correlation coefficient, dtype: float64"
      ]
     },
     "execution_count": 12,
     "metadata": {},
     "output_type": "execute_result"
    }
   ],
   "source": [
    "def closed_form_2(x,y,lam=0,constant = True):\n",
    "    if constant:\n",
    "        x[\"Constant\"]=1\n",
    "    columns = x.columns\n",
    "    x = np.matrix(x)\n",
    "    y = np.matrix(y).T\n",
    "    coeff = (x.T@x + lam*np.eye(x.shape[1])).I@(x.T@y)\n",
    "    result = pd.Series(coeff.A1, index=columns, \n",
    "                       name=\"correlation coefficient\")\n",
    "    return result\n",
    "\n",
    "#we test the function when \\lambda = 1e-3\n",
    "coeff_l2 = closed_form_2(train_data.iloc[:,1:-1], train_data.Temp,1e-3)\n",
    "coeff_l2"
   ]
  },
  {
   "cell_type": "markdown",
   "metadata": {},
   "source": [
    "### 3.Compare the two solutions in problem 1 and problem 2 and explain the reason why linear model with L2 regularization is robust. (using climate_change_1.csv)\n",
    "The all correlation coefficent value of Ridge regression shrinked compared with the OLS regression.When we add punishment on the correlation coefficent, the absolute value of them will decrease, so it's more stable compared to the original one."
   ]
  },
  {
   "cell_type": "code",
   "execution_count": 13,
   "metadata": {},
   "outputs": [
    {
     "name": "stdout",
     "output_type": "stream",
     "text": [
      "correlation coefficient of OLS is \n",
      " MEI           0.064205\n",
      "CO2           0.006457\n",
      "CH4           0.000124\n",
      "N2O          -0.016528\n",
      "CFC-11       -0.006630\n",
      "CFC-12        0.003808\n",
      "TSI           0.093141\n",
      "Aerosols     -1.537613\n",
      "Constant   -124.594261\n",
      "Name: correlation coefficient, dtype: float64\n",
      "\n",
      "\n",
      "correlation coefficient of Ridge regresion is \n",
      " MEI         0.055398\n",
      "CO2         0.006257\n",
      "CH4         0.000073\n",
      "N2O        -0.013336\n",
      "CFC-11     -0.005816\n",
      "CFC-12      0.003584\n",
      "TSI         0.003155\n",
      "Aerosols   -1.328688\n",
      "Constant   -2.592470\n",
      "Name: correlation coefficient, dtype: float64\n"
     ]
    }
   ],
   "source": [
    "print(\"correlation coefficient of OLS is \\n\", coeff)\n",
    "print(\"\\n\")\n",
    "print(\"correlation coefficient of Ridge regresion is \\n\", coeff_l2)"
   ]
  },
  {
   "cell_type": "markdown",
   "metadata": {},
   "source": [
    "### 4. You can change the regularization parameter λ to get different solutions for this problem. Suppose we set λ = 10, 1, 0.1, 0.01, 0.001, and please evaluate the model R2 on the training set and the testing set. Finally, please decide the best regularization parameter $\\lambda$.\n",
    "\n",
    "* At first, we assume the we have the constant term.We should choose the $\\lambda$ at 1e-6, as the $R^2$ is stable after 1e-6"
   ]
  },
  {
   "cell_type": "code",
   "execution_count": 14,
   "metadata": {},
   "outputs": [
    {
     "data": {
      "text/plain": [
       "[<matplotlib.lines.Line2D at 0x223d10f1648>]"
      ]
     },
     "execution_count": 14,
     "metadata": {},
     "output_type": "execute_result"
    },
    {
     "data": {
      "text/plain": [
       "[<matplotlib.lines.Line2D at 0x223d457c308>]"
      ]
     },
     "execution_count": 14,
     "metadata": {},
     "output_type": "execute_result"
    },
    {
     "data": {
      "text/plain": [
       "Text(0, 0.5, '$R^2$')"
      ]
     },
     "execution_count": 14,
     "metadata": {},
     "output_type": "execute_result"
    },
    {
     "data": {
      "text/plain": [
       "Text(0.5, 0, '$\\\\lambda$')"
      ]
     },
     "execution_count": 14,
     "metadata": {},
     "output_type": "execute_result"
    },
    {
     "data": {
      "text/plain": [
       "<matplotlib.legend.Legend at 0x223d45d27c8>"
      ]
     },
     "execution_count": 14,
     "metadata": {},
     "output_type": "execute_result"
    },
    {
     "data": {
      "image/png": "[encoded data removed]",
      "text/plain": [
       "<Figure size 432x288 with 1 Axes>"
      ]
     },
     "metadata": {
      "needs_background": "light"
     },
     "output_type": "display_data"
    }
   ],
   "source": [
    "lam_set = [10**i for i in range(-15,2)]\n",
    "lam_set.reverse()\n",
    "r_result = []\n",
    "\n",
    "for lam in lam_set:\n",
    "    coeff = closed_form_2(train_data.iloc[:,1:-1], train_data.Temp, lam=lam)\n",
    "    r2_test = r_square(coeff,test_data.iloc[:,1:-1],test_data.Temp)\n",
    "    r2_train = r_square(coeff,train_data.iloc[:,1:-1],train_data.Temp)\n",
    "    r_result.append((r2_test,r2_train))\n",
    "    \n",
    "temp = np.array(r_result)\n",
    "plt.xscale('log')\n",
    "plt.plot(lam_set,temp[:,0], label = \"train_data\")\n",
    "plt.plot(lam_set,temp[:,1], label = \"test_data\")\n",
    "plt.ylabel(\"$R^2$\")\n",
    "plt.xlabel(\"$\\lambda$\")\n",
    "plt.legend(loc='best')\n",
    "\n",
    "plt.show()"
   ]
  },
  {
   "cell_type": "markdown",
   "metadata": {},
   "source": [
    "Then, we assume the we don't have the constant term.We should choose the  𝜆  at 1e-2, as the  𝑅2  is stable after 1e-6"
   ]
  },
  {
   "cell_type": "code",
   "execution_count": 15,
   "metadata": {},
   "outputs": [
    {
     "data": {
      "text/plain": [
       "[<matplotlib.lines.Line2D at 0x223d46ab8c8>]"
      ]
     },
     "execution_count": 15,
     "metadata": {},
     "output_type": "execute_result"
    },
    {
     "data": {
      "text/plain": [
       "[<matplotlib.lines.Line2D at 0x223d47b5308>]"
      ]
     },
     "execution_count": 15,
     "metadata": {},
     "output_type": "execute_result"
    },
    {
     "data": {
      "text/plain": [
       "Text(0, 0.5, '$R^2$')"
      ]
     },
     "execution_count": 15,
     "metadata": {},
     "output_type": "execute_result"
    },
    {
     "data": {
      "text/plain": [
       "Text(0.5, 0, '$\\\\lambda$')"
      ]
     },
     "execution_count": 15,
     "metadata": {},
     "output_type": "execute_result"
    },
    {
     "data": {
      "text/plain": [
       "<matplotlib.legend.Legend at 0x223d4716dc8>"
      ]
     },
     "execution_count": 15,
     "metadata": {},
     "output_type": "execute_result"
    },
    {
     "data": {
      "image/png": "[encoded data removed]",
      "text/plain": [
       "<Figure size 432x288 with 1 Axes>"
      ]
     },
     "metadata": {
      "needs_background": "light"
     },
     "output_type": "display_data"
    }
   ],
   "source": [
    "lam_set = [10**i for i in range(-5,2)]\n",
    "lam_set.reverse()\n",
    "r_result = []\n",
    "\n",
    "for lam in lam_set:\n",
    "    coeff = closed_form_2(train_data.iloc[:,1:-1], train_data.Temp, lam=lam, constant = False)\n",
    "    r2_test = r_square(coeff,test_data.iloc[:,1:-1],test_data.Temp, constant = False)\n",
    "    r2_train = r_square(coeff,train_data.iloc[:,1:-1],train_data.Temp, constant = False)\n",
    "    r_result.append((r2_test,r2_train))\n",
    "    \n",
    "temp = np.array(r_result)\n",
    "plt.xscale('log')\n",
    "plt.plot(lam_set,temp[:,0], label = \"train_data\")\n",
    "plt.plot(lam_set,temp[:,1], label = \"test_data\")\n",
    "plt.ylabel(\"$R^2$\")\n",
    "plt.xlabel(\"$\\lambda$\")\n",
    "plt.legend(loc='best')\n",
    "\n",
    "plt.show()"
   ]
  },
  {
   "cell_type": "markdown",
   "metadata": {},
   "source": [
    "# Problem3"
   ]
  },
  {
   "cell_type": "markdown",
   "metadata": {},
   "source": [
    "### 1. From Problem 1, you can know which variables are significant, therefore you can use less variables to train model. For example, remove highly correlated and redundant features. You can propose a workflow to select feature.\n",
    "\n",
    "1. Remove the highly correlated variable first.\n",
    "2. Run regression, remove the insignificant variables step by step"
   ]
  },
  {
   "cell_type": "code",
   "execution_count": 16,
   "metadata": {
    "scrolled": true
   },
   "outputs": [
    {
     "data": {
      "text/html": [
       "<div>\n",
       "<style scoped>\n",
       "    .dataframe tbody tr th:only-of-type {\n",
       "        vertical-align: middle;\n",
       "    }\n",
       "\n",
       "    .dataframe tbody tr th {\n",
       "        vertical-align: top;\n",
       "    }\n",
       "\n",
       "    .dataframe thead th {\n",
       "        text-align: right;\n",
       "    }\n",
       "</style>\n",
       "<table border=\"1\" class=\"dataframe\">\n",
       "  <thead>\n",
       "    <tr style=\"text-align: right;\">\n",
       "      <th></th>\n",
       "      <th>MEI</th>\n",
       "      <th>CO2</th>\n",
       "      <th>CH4</th>\n",
       "      <th>N2O</th>\n",
       "      <th>CFC-11</th>\n",
       "      <th>CFC-12</th>\n",
       "      <th>TSI</th>\n",
       "      <th>Aerosols</th>\n",
       "    </tr>\n",
       "  </thead>\n",
       "  <tbody>\n",
       "    <tr>\n",
       "      <th>MEI</th>\n",
       "      <td>1.0</td>\n",
       "      <td>NaN</td>\n",
       "      <td>NaN</td>\n",
       "      <td>NaN</td>\n",
       "      <td>NaN</td>\n",
       "      <td>NaN</td>\n",
       "      <td>NaN</td>\n",
       "      <td>NaN</td>\n",
       "    </tr>\n",
       "    <tr>\n",
       "      <th>CO2</th>\n",
       "      <td>NaN</td>\n",
       "      <td>1.00000</td>\n",
       "      <td>NaN</td>\n",
       "      <td>0.97672</td>\n",
       "      <td>NaN</td>\n",
       "      <td>NaN</td>\n",
       "      <td>NaN</td>\n",
       "      <td>NaN</td>\n",
       "    </tr>\n",
       "    <tr>\n",
       "      <th>CH4</th>\n",
       "      <td>NaN</td>\n",
       "      <td>NaN</td>\n",
       "      <td>1.000000</td>\n",
       "      <td>NaN</td>\n",
       "      <td>NaN</td>\n",
       "      <td>0.963616</td>\n",
       "      <td>NaN</td>\n",
       "      <td>NaN</td>\n",
       "    </tr>\n",
       "    <tr>\n",
       "      <th>N2O</th>\n",
       "      <td>NaN</td>\n",
       "      <td>0.97672</td>\n",
       "      <td>NaN</td>\n",
       "      <td>1.00000</td>\n",
       "      <td>NaN</td>\n",
       "      <td>NaN</td>\n",
       "      <td>NaN</td>\n",
       "      <td>NaN</td>\n",
       "    </tr>\n",
       "    <tr>\n",
       "      <th>CFC-11</th>\n",
       "      <td>NaN</td>\n",
       "      <td>NaN</td>\n",
       "      <td>NaN</td>\n",
       "      <td>NaN</td>\n",
       "      <td>1.0</td>\n",
       "      <td>NaN</td>\n",
       "      <td>NaN</td>\n",
       "      <td>NaN</td>\n",
       "    </tr>\n",
       "    <tr>\n",
       "      <th>CFC-12</th>\n",
       "      <td>NaN</td>\n",
       "      <td>NaN</td>\n",
       "      <td>0.963616</td>\n",
       "      <td>NaN</td>\n",
       "      <td>NaN</td>\n",
       "      <td>1.000000</td>\n",
       "      <td>NaN</td>\n",
       "      <td>NaN</td>\n",
       "    </tr>\n",
       "    <tr>\n",
       "      <th>TSI</th>\n",
       "      <td>NaN</td>\n",
       "      <td>NaN</td>\n",
       "      <td>NaN</td>\n",
       "      <td>NaN</td>\n",
       "      <td>NaN</td>\n",
       "      <td>NaN</td>\n",
       "      <td>1.0</td>\n",
       "      <td>NaN</td>\n",
       "    </tr>\n",
       "    <tr>\n",
       "      <th>Aerosols</th>\n",
       "      <td>NaN</td>\n",
       "      <td>NaN</td>\n",
       "      <td>NaN</td>\n",
       "      <td>NaN</td>\n",
       "      <td>NaN</td>\n",
       "      <td>NaN</td>\n",
       "      <td>NaN</td>\n",
       "      <td>1.0</td>\n",
       "    </tr>\n",
       "  </tbody>\n",
       "</table>\n",
       "</div>"
      ],
      "text/plain": [
       "          MEI      CO2       CH4      N2O  CFC-11    CFC-12  TSI  Aerosols\n",
       "MEI       1.0      NaN       NaN      NaN     NaN       NaN  NaN       NaN\n",
       "CO2       NaN  1.00000       NaN  0.97672     NaN       NaN  NaN       NaN\n",
       "CH4       NaN      NaN  1.000000      NaN     NaN  0.963616  NaN       NaN\n",
       "N2O       NaN  0.97672       NaN  1.00000     NaN       NaN  NaN       NaN\n",
       "CFC-11    NaN      NaN       NaN      NaN     1.0       NaN  NaN       NaN\n",
       "CFC-12    NaN      NaN  0.963616      NaN     NaN  1.000000  NaN       NaN\n",
       "TSI       NaN      NaN       NaN      NaN     NaN       NaN  1.0       NaN\n",
       "Aerosols  NaN      NaN       NaN      NaN     NaN       NaN  NaN       1.0"
      ]
     },
     "execution_count": 16,
     "metadata": {},
     "output_type": "execute_result"
    }
   ],
   "source": [
    "corr = train_data.iloc[:,1:-1].corr()\n",
    "corr[corr>0.9]"
   ]
  },
  {
   "cell_type": "markdown",
   "metadata": {},
   "source": [
    "As we see the CO2 highly correlated with N2O, CH4 highly correlated with CFC-12.<br>\n",
    "We exam the variance of each pair variables and remove the less flactuated one.<br>\n",
    "So, we need to delete CH4 and N2O."
   ]
  },
  {
   "cell_type": "code",
   "execution_count": 17,
   "metadata": {},
   "outputs": [
    {
     "data": {
      "text/plain": [
       "MEI          0.929639\n",
       "CO2         11.439691\n",
       "CH4         45.669846\n",
       "N2O          4.758513\n",
       "CFC-11      20.987671\n",
       "CFC-12      59.046642\n",
       "TSI          0.401283\n",
       "Aerosols     0.030014\n",
       "Temp         0.181136\n",
       "dtype: float64"
      ]
     },
     "execution_count": 17,
     "metadata": {},
     "output_type": "execute_result"
    }
   ],
   "source": [
    "train_data.iloc[:,1:].std()"
   ]
  },
  {
   "cell_type": "markdown",
   "metadata": {},
   "source": [
    "### 2.Train a better model than the model in Problem 2.\n",
    "As the explaining variables will be reduced in the feature selection part, we need to evaluate the $adj-R^2$"
   ]
  },
  {
   "cell_type": "code",
   "execution_count": 18,
   "metadata": {},
   "outputs": [
    {
     "name": "stdout",
     "output_type": "stream",
     "text": [
      "The adj_r2 of the new nodel is 0.6179386094221198\n",
      "The r2 of the test set is 0.03734817722359458\n",
      "The adj_r2 of the origial model is 0.7427109396542091\n",
      "The r2 of the test set is 0.18739109629319595\n"
     ]
    }
   ],
   "source": [
    "def adj_r2(coeff,x,y,constant = True):\n",
    "    if constant:\n",
    "        x[\"Constant\"]=1\n",
    "        \n",
    "    coeff = np.matrix(coeff)\n",
    "    x = np.matrix(x)\n",
    "    y = y.values\n",
    "    y_hat = (x@coeff.T).A1\n",
    "    \n",
    "    k = x.shape[1]\n",
    "    n = x.shape[0]\n",
    "    var1 = ((y_hat-y_hat.mean())**2).sum()\n",
    "    var2 = ((y-y.mean())**2).sum()\n",
    "    \n",
    "    r2 = var1/var2\n",
    "    r2 = 1- (1-r2)*(n-1)/(n-k-1)\n",
    "    return r2\n",
    "\n",
    "\n",
    "temp = train_data.iloc[:,1:-1].copy()\n",
    "temp.drop(columns = [\"CFC-12\", \"CH4\", \"Aerosols\"], inplace = True)\n",
    "coeff = closed_form_1(temp.iloc[:,1:-1], train_data.Temp)\n",
    "\n",
    "test_temp = test_data.iloc[:,1:-1].copy()\n",
    "test_temp.drop(columns = [\"CFC-12\", \"CH4\",\"Aerosols\"], inplace = True)\n",
    "\n",
    "print (\"The adj_r2 of the new nodel is\", adj_r2(coeff,temp.iloc[:,1:-1],train_data.Temp))\n",
    "print (\"The r2 of the test set is\", r_square(coeff,test_temp.iloc[:,1:-1],test_data.Temp))\n",
    "\n",
    "\n",
    "coeff = closed_form_1(train_data.iloc[:,1:-1], train_data.Temp)\n",
    "print (\"The adj_r2 of the origial model is\", adj_r2(coeff,train_data.iloc[:,1:-1],train_data.Temp))\n",
    "print (\"The r2 of the test set is\", r_square(coeff,test_data.iloc[:,1:-1],test_data.Temp))\n"
   ]
  },
  {
   "cell_type": "markdown",
   "metadata": {},
   "source": [
    "# Problem 4"
   ]
  },
  {
   "cell_type": "markdown",
   "metadata": {},
   "source": [
    "**Gradient descent algorithm is an iterative process that takes us to the minimum of a function. Please write down the iterative expression for updating the solution of linear model and implement it using Python or Matlab in gradientDescent function.**\n",
    "* Batch based gradient descent iterative formula is$$\\beta_n = \\beta_{n-1} -\\frac{\\alpha}{m} X'(X\\beta -y)$$\n",
    "The X is a batch of random choosed observation"
   ]
  },
  {
   "cell_type": "code",
   "execution_count": 20,
   "metadata": {},
   "outputs": [
    {
     "data": {
      "image/png": "[encoded data removed]",
      "text/plain": [
       "<Figure size 432x288 with 1 Axes>"
      ]
     },
     "metadata": {
      "needs_background": "light"
     },
     "output_type": "display_data"
    },
    {
     "name": "stdout",
     "output_type": "stream",
     "text": [
      "The final loss is  17.802135302289912\n"
     ]
    },
    {
     "data": {
      "text/plain": [
       "MEI        -0.219138\n",
       "CO2        -0.098706\n",
       "CH4        -0.108106\n",
       "N2O         0.123284\n",
       "CFC-11      0.011149\n",
       "CFC-12      0.171559\n",
       "TSI         0.428865\n",
       "Aerosols    0.642201\n",
       "Constant    0.334007\n",
       "Name: correlation coefficient, dtype: float64"
      ]
     },
     "execution_count": 20,
     "metadata": {},
     "output_type": "execute_result"
    }
   ],
   "source": [
    "from sklearn import preprocessing\n",
    "\n",
    "def loss(coeff,x,y):\n",
    "    return (x@coeff-y).T@(x@coeff-y)\n",
    "\n",
    "def gradientDescent(x,y,iter_max=200000, batch=100,alpha=1e-5,\n",
    "                     min_gap=1e-1,constant=True):\n",
    "    record = []\n",
    "    if constant:\n",
    "        x[\"Constant\"]=1\n",
    "    columns = x.columns\n",
    "    x = np.matrix(x)\n",
    "    y = np.matrix(y).T\n",
    "    coeff = np.matrix(np.arange(x.shape[1])/x.shape[1]).T\n",
    "\n",
    "    for i in range(iter_max):\n",
    "        idx = np.random.choice(x.shape[0],batch)\n",
    "        x_batch = x[idx,:]\n",
    "        y_batch = y[idx,:]\n",
    "        iteration = alpha/batch*(x_batch.T@(x_batch@coeff-y_batch))\n",
    "        if np.abs(iteration.A1).all() < min_gap:\n",
    "            print(\"iteration terminal at %s times\"%i)\n",
    "            break\n",
    "        else:\n",
    "            coeff = coeff - iteration\n",
    "            record.append(loss(coeff,x,y)[0,0])\n",
    "            \n",
    "    plt.plot(record, label = \"loss_function\")\n",
    "    plt.ylabel(\"total_loss\")\n",
    "    plt.xlabel(\"iter_times\")\n",
    "    plt.legend()\n",
    "    plt.show()\n",
    "    \n",
    "    print(\"The final loss is \", record[-1])\n",
    "    result = pd.Series(coeff.A1, index=columns, name=\"correlation coefficient\")\n",
    "    return result\n",
    "\n",
    "min_max_scaler = preprocessing.MinMaxScaler()\n",
    "scaled_train = min_max_scaler.fit_transform(train_data.iloc[:,1:].values)\n",
    "scaled_train = pd.DataFrame(scaled_train, columns = train_data.columns[1:])\n",
    "result_gd = gradientDescent(scaled_train.iloc[:,:-1], scaled_train.Temp)\n",
    "result_gd"
   ]
  },
  {
   "cell_type": "markdown",
   "metadata": {},
   "source": [
    "#### We compare the result with the OLS analytical solution.The result of the gradient descent is better."
   ]
  },
  {
   "cell_type": "code",
   "execution_count": 25,
   "metadata": {},
   "outputs": [
    {
     "data": {
      "text/plain": [
       "CO2         0.351268\n",
       "CH4        -0.057338\n",
       "N2O        -0.257014\n",
       "CFC-11     -0.448484\n",
       "CFC-12      0.700769\n",
       "TSI         0.113276\n",
       "Aerosols   -0.114125\n",
       "Constant    0.304727\n",
       "Name: correlation coefficient, dtype: float64"
      ]
     },
     "execution_count": 25,
     "metadata": {},
     "output_type": "execute_result"
    },
    {
     "data": {
      "text/plain": [
       "19.868209289567734"
      ]
     },
     "execution_count": 25,
     "metadata": {},
     "output_type": "execute_result"
    }
   ],
   "source": [
    "coeff_ols = closed_form_1(scaled_train.iloc[:,1:-1], scaled_train.Temp)\n",
    "coeff_ols\n",
    "scaled_train_x = scaled_train.iloc[:,1:-1].copy()\n",
    "scaled_train_x[\"Constant\"]=1\n",
    "loss(coeff_ols,np.matrix(scaled_train_x),np.matrix(scaled_train.Temp).T)[0,0]"
   ]
  }
 ],
 "metadata": {
  "kernelspec": {
   "display_name": "Python 3",
   "language": "python",
   "name": "python3"
  },
  "language_info": {
   "codemirror_mode": {
    "name": "ipython",
    "version": 3
   },
   "file_extension": ".py",
   "mimetype": "text/x-python",
   "name": "python",
   "nbconvert_exporter": "python",
   "pygments_lexer": "ipython3",
   "version": "3.7.4"
  }
 },
 "nbformat": 4,
 "nbformat_minor": 2
}
